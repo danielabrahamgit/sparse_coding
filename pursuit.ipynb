{
 "cells": [
  {
   "cell_type": "code",
   "execution_count": 82,
   "metadata": {},
   "outputs": [],
   "source": [
    "import numpy as np\n",
    "import matplotlib.pyplot as plt\n",
    "from sklearn.linear_model import orthogonal_mp, Lasso"
   ]
  },
  {
   "cell_type": "code",
   "execution_count": 169,
   "metadata": {},
   "outputs": [],
   "source": [
    "# Algorithm 5.1 in https://www.learningtheory.org/colt2009/papers/009.pdf\n",
    "def lsc(X, y, sigma):\n",
    "\n",
    "\t# def omega_bar(t):\n",
    "\t# \treturn t ** 2 * (t <= 1) + (2 * np.abs(t) - 1) * (t > 1)\n",
    "\n",
    "\tnorm = np.linalg.norm(X, ord='fro')\n",
    "\n",
    "\tbeta = 4 * sigma * sigma\n",
    "\ttau = 4 * sigma / norm\n",
    "\tT = X.shape[0]\n",
    "\t# h = beta / (X.shape[0] * X.shape[1])\n",
    "\th = beta / (norm ** 2)\n",
    "\n",
    "\tL = np.zeros(X.shape[1])\n",
    "\tlambd = np.zeros_like(L)\n",
    "\tH = 0\n",
    "\terrs = []\n",
    "\n",
    "\tXX = X.T @ X\n",
    "\tXy = X.T @ y\n",
    "\ti = 0\n",
    "\twhile H < T:\n",
    "\t\ti+=1\n",
    "\t\tnablaV = (2 / beta) * (Xy - XX @ L)\n",
    "\t\tnablaV = nablaV - 4 * L / (tau ** 2 + L ** 2)\n",
    "\t\tL = L + h * nablaV + np.sqrt(2 * h) * np.random.normal(0, 1, L.shape)\n",
    "\t\tH = H + 1\n",
    "\t\tlambd = lambd + h * L / T\n",
    "\t\tprint(np.linalg.norm(nablaV))\n",
    "\treturn lambd / h / 2\n",
    "\n",
    "\n",
    "def f(u, u0):\n",
    "\treturn (u >= u0) * (u - u0)\n",
    "\n",
    "def heav(u):\n",
    "\treturn (u>=0) * 1\n",
    "\n",
    "def lsc2(Y, D, u0, lambd, alpha=1e-3, tol=1e-3):\n",
    "\tDD = D.T @ D \n",
    "\tDY = D.T @ Y\n",
    "\tif len(Y.shape) > 1:\n",
    "\t\tu = np.random.normal(0, 1, (D.shape[1], Y.shape[1]))\n",
    "\telse:\n",
    "\t\tu = np.random.normal(0, 1, D.shape[1])\n",
    "\t# s = f(np.abs(u), u0)\n",
    "\ts = u\n",
    "\tfor i in range(10000):\n",
    "\t\tT = (DY - DD @ s)\n",
    "\t\tgrad = T - lambd * np.sign(s) + np.sqrt(2) * np.random.normal(0, 1, s.shape)\n",
    "\t\t# u0 = u0 - alpha * T \n",
    "\t\t# u = u - alpha * grad\n",
    "\t\t# s = f(np.abs(u), u0)\n",
    "\t\ts = s + alpha * grad\n",
    "\treturn s\n",
    "\n",
    "\n",
    "\n",
    "\n"
   ]
  },
  {
   "cell_type": "code",
   "execution_count": 170,
   "metadata": {},
   "outputs": [],
   "source": [
    "# n features\n",
    "d = 1000\n",
    "# n atoms\n",
    "k = 100\n",
    "# true sparsity\n",
    "n_sparse = 4\n",
    "# variance in data\n",
    "sigma_data = 0.01\n",
    "\n",
    "# Random dictionary with normalized atoms\n",
    "D = np.random.uniform(-1, 1, (d, k))\n",
    "D = D / np.linalg.norm(D, axis=0)\n",
    "\n",
    "# sparse vector s with n_sparse sparsity\n",
    "s = np.zeros(k)\n",
    "s[np.random.choice(k, n_sparse, replace=False)] = np.random.uniform(-5,5,n_sparse)\n",
    "\n",
    "# noisy measurement y\n",
    "y = D @ s + np.random.normal(0, sigma_data, d)"
   ]
  },
  {
   "cell_type": "code",
   "execution_count": 172,
   "metadata": {},
   "outputs": [
    {
     "name": "stdout",
     "output_type": "stream",
     "text": [
      "[-1.30101390e-03 -2.81650558e-03  5.07335397e-04  2.74496228e-03\n",
      " -8.34372342e-04 -2.34939788e-03  2.49914252e-04 -2.25451666e-03\n",
      " -1.77025669e-03  1.74517912e-03 -1.65063547e-03  2.74553265e-04\n",
      " -1.28036731e-03 -4.85592603e-03  7.97780925e-04  3.63149683e+00\n",
      "  4.95254957e-04  9.19933830e-04 -1.00427998e-03 -2.18055991e-04\n",
      " -2.11310748e-03  1.04475760e-03 -3.72325634e-04 -9.10279570e-04\n",
      "  2.96354429e-03  1.55323859e-04 -2.06387005e-03 -9.68433628e-04\n",
      "  2.45780149e-03 -2.54468622e-03  1.69014074e-03  2.98102039e-03\n",
      "  1.56234083e-03 -1.31078229e-03 -1.11000002e-03 -1.51500237e-03\n",
      " -3.73529796e-03 -8.81418429e-04  4.47273749e-05  2.89903355e-03\n",
      "  2.36953385e-03  3.50020106e-04  3.08852892e-03  4.97594987e-03\n",
      "  3.05319987e-04  1.27346207e-03 -4.43585741e-04 -1.30514498e-03\n",
      "  1.00067963e+00  1.95525898e-03  3.10016231e-04 -3.30507055e-03\n",
      "  5.15220403e-05 -1.65145139e-03  1.80401303e-03  1.19311621e-03\n",
      " -6.65509829e-03  2.50527021e-03  2.30148513e-04  2.49471152e-03\n",
      "  4.82449650e-04 -2.00513596e+00  1.43995803e-03  2.33708727e-03\n",
      " -1.98196979e-04 -1.29398521e-05 -4.30678631e-04 -4.00217406e-04\n",
      "  1.20173938e-03 -2.38003650e-04 -5.11523077e-03 -6.57036448e-04\n",
      " -3.55893853e-04 -2.00031245e-03  5.01119515e-03  1.09044348e-03\n",
      " -5.69045312e-04  5.24244496e-03  1.40706125e-04  1.37124547e-03\n",
      "  2.49956999e-03 -2.85602726e-04  2.42653058e-03  2.47553137e-03\n",
      " -1.20347433e-03  1.84723590e-03 -8.19873663e-04 -3.01151346e-03\n",
      "  2.58397759e-03 -1.35658648e-03 -3.22833069e-04  7.03699497e-04\n",
      "  2.40893481e-03  8.26359029e-04 -3.65652382e-04 -1.33701547e-03\n",
      "  9.14574507e-04 -2.27296974e-03 -6.69246691e-01 -6.26887582e-03]\n",
      "Wall time: 830 ms\n"
     ]
    }
   ],
   "source": [
    "%%time\n",
    "lambd = 0.7\n",
    "s_lsc = lsc2(y, D, u0=-np.log(0.2) / lambd, lambd=lambd, alpha=1e-3)\n",
    "print(s_lsc)"
   ]
  },
  {
   "cell_type": "code",
   "execution_count": 173,
   "metadata": {},
   "outputs": [
    {
     "name": "stdout",
     "output_type": "stream",
     "text": [
      "Wall time: 2 ms\n"
     ]
    }
   ],
   "source": [
    "%%time\n",
    "clf = Lasso(alpha=1e-3)\n",
    "s_lasso = clf.fit(D, y).coef_"
   ]
  },
  {
   "cell_type": "code",
   "execution_count": 174,
   "metadata": {},
   "outputs": [
    {
     "name": "stdout",
     "output_type": "stream",
     "text": [
      "Wall time: 35.2 ms\n"
     ]
    }
   ],
   "source": [
    "%%time\n",
    "s_mp = orthogonal_mp(D, y, tol=1e-3)"
   ]
  },
  {
   "cell_type": "code",
   "execution_count": 175,
   "metadata": {},
   "outputs": [
    {
     "data": {
      "text/plain": [
       "<StemContainer object of 3 artists>"
      ]
     },
     "execution_count": 175,
     "metadata": {},
     "output_type": "execute_result"
    },
    {
     "data": {
      "image/png": "[encoded data removed]",
      "text/plain": [
       "<Figure size 1152x576 with 4 Axes>"
      ]
     },
     "metadata": {
      "needs_background": "light"
     },
     "output_type": "display_data"
    }
   ],
   "source": [
    "plt.figure(figsize=(16,8))\n",
    "plt.subplot(411)\n",
    "plt.stem(s, use_line_collection=True)\n",
    "plt.subplot(412)\n",
    "plt.stem(s_mp, use_line_collection=True)\n",
    "plt.subplot(413)\n",
    "plt.stem(s_lasso, use_line_collection=True)\n",
    "plt.subplot(414)\n",
    "plt.stem(s_lsc, use_line_collection=True)"
   ]
  },
  {
   "cell_type": "code",
   "execution_count": null,
   "metadata": {},
   "outputs": [],
   "source": []
  },
  {
   "cell_type": "code",
   "execution_count": null,
   "metadata": {},
   "outputs": [],
   "source": []
  }
 ],
 "metadata": {
  "interpreter": {
   "hash": "ac59ebe37160ed0dfa835113d9b8498d9f09ceb179beaac4002f036b9467c963"
  },
  "kernelspec": {
   "display_name": "Python 3.9.4 64-bit",
   "language": "python",
   "name": "python3"
  },
  "language_info": {
   "codemirror_mode": {
    "name": "ipython",
    "version": 3
   },
   "file_extension": ".py",
   "mimetype": "text/x-python",
   "name": "python",
   "nbconvert_exporter": "python",
   "pygments_lexer": "ipython3",
   "version": "3.9.4"
  },
  "orig_nbformat": 4
 },
 "nbformat": 4,
 "nbformat_minor": 2
}
